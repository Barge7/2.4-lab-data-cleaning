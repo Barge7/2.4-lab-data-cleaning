{
 "cells": [
  {
   "cell_type": "code",
   "execution_count": 62,
   "id": "b72de216",
   "metadata": {},
   "outputs": [],
   "source": [
    "def vowel_indices(word):\n",
    "    \n",
    "    word= word.lower()\n",
    "    voc= 'aeiou'\n",
    "    lista= []\n",
    "    lista2= []\n",
    "    \n",
    "    for i in word:\n",
    "        if i in voc:\n",
    "            lista.append(i)\n",
    "            lista2.append(len(lista))\n",
    "            \n",
    "        else:\n",
    "            lista.append(i)\n",
    "            \n",
    "        print(lista2)\n",
    "        \n",
    "    return lista2\n",
    "            "
   ]
  },
  {
   "cell_type": "code",
   "execution_count": 63,
   "id": "b056c47f",
   "metadata": {},
   "outputs": [
    {
     "name": "stdout",
     "output_type": "stream",
     "text": [
      "[1]\n",
      "[1]\n",
      "[1]\n",
      "[1]\n",
      "[1, 5]\n"
     ]
    },
    {
     "data": {
      "text/plain": [
       "[1, 5]"
      ]
     },
     "execution_count": 63,
     "metadata": {},
     "output_type": "execute_result"
    }
   ],
   "source": [
    "vowel_indices(\"apple\")"
   ]
  }
 ],
 "metadata": {
  "kernelspec": {
   "display_name": "Python 3 (ipykernel)",
   "language": "python",
   "name": "python3"
  },
  "language_info": {
   "codemirror_mode": {
    "name": "ipython",
    "version": 3
   },
   "file_extension": ".py",
   "mimetype": "text/x-python",
   "name": "python",
   "nbconvert_exporter": "python",
   "pygments_lexer": "ipython3",
   "version": "3.9.12"
  }
 },
 "nbformat": 4,
 "nbformat_minor": 5
}
